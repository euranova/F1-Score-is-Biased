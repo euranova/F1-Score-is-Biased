{
 "cells": [
  {
   "cell_type": "code",
   "execution_count": 1,
   "metadata": {},
   "outputs": [],
   "source": [
    "import os\n",
    "import sys\n",
    "\n",
    "import numpy as np\n",
    "from tqdm import tqdm\n",
    "\n",
    "from sklearn import metrics\n",
    "from sklearn.svm import OneClassSVM\n",
    "from sklearn.preprocessing import MinMaxScaler\n",
    "from sklearn.model_selection import train_test_split\n",
    "from sklearn.metrics import precision_recall_fscore_support as prf, accuracy_score, confusion_matrix\n",
    "\n",
    "from matplotlib import pyplot as plt\n",
    "\n",
    "from utils.datasets import load_dataset, normalize_data\n",
    "from utils.protocols import get_model_scores, get_threshold, get_subset\n",
    "from utils.scores import get_scores, get_auc_score, get_avpr_score\n"
   ]
  },
  {
   "cell_type": "code",
   "execution_count": 2,
   "metadata": {},
   "outputs": [],
   "source": [
    "img_format = 'pdf'\n",
    "dpi = 512\n",
    "\n",
    "# Choose the dataset to analyse\n",
    "dataset_name = \"thyroid\" #\"arrhythmia\" \"thyroid\", \"kddcup\"\n",
    "fig_title = {\n",
    "    \"thyroid\": \"Thyroid\",\n",
    "    \"arrhythmia\": \"Arrhythmia\",\n",
    "    \"kddcup\": \"KDD Cup\"\n",
    "}\n",
    "\n",
    "n_runs = 100\n",
    "n_exp = 100"
   ]
  },
  {
   "cell_type": "code",
   "execution_count": 3,
   "metadata": {},
   "outputs": [
    {
     "name": "stdout",
     "output_type": "stream",
     "text": [
      "[DOWNLOAD] Download dataset thyroid from https://www.dropbox.com/s/bih0e15a0fukftb/thyroid.mat?dl=1\n"
     ]
    },
    {
     "name": "stderr",
     "output_type": "stream",
     "text": [
      "100%|██████████| 100/100 [01:14<00:00,  1.35it/s]\n"
     ]
    }
   ],
   "source": [
    "# Study the impact of number of anomaly in test set (for perfect ratio)\n",
    "x, y = load_dataset(dataset_name)\n",
    "\n",
    "if dataset_name == \"kddcup\":\n",
    "    x, y = get_subset(x, y)\n",
    "\n",
    "nb_anomaly = np.sum(y==1)\n",
    "n_exp = min(n_exp, nb_anomaly)\n",
    "\n",
    "f1_scores = np.zeros((n_exp, n_runs))\n",
    "auc_scores = np.zeros((n_exp, n_runs))\n",
    "avpr_scores = np.zeros((n_exp, n_runs))\n",
    "\n",
    "nb_anomalies = np.linspace(1, nb_anomaly, num=n_exp, dtype=np.int)\n",
    "\n",
    "for j in tqdm(range(n_runs)):\n",
    "    x_run, y_run = x.copy(), y.copy()\n",
    "    \n",
    "    # Split into train test with a clean train set\n",
    "    X_train, X_test, y_train, y_test = train_test_split(\n",
    "        x_run[y_run==0], y_run[y_run==0], test_size=0.2)\n",
    "    \n",
    "    X_train, X_test, X_anomalous = normalize_data(\n",
    "        fit_on=X_train, transform=(X_train, X_test, x_run[y_run==1]))\n",
    "\n",
    "    # Fit a gaussian on the train set\n",
    "    clf = OneClassSVM(gamma='auto', nu=0.9)\n",
    "    clf.fit(X_train)\n",
    "    \n",
    "    s_normal = get_model_scores(clf, X_test)\n",
    "    s_anomaly = get_model_scores(clf, X_anomalous)\n",
    "            \n",
    "    # Select X value of anomaly\n",
    "    for i, na in enumerate(nb_anomalies):\n",
    "    \n",
    "        anomaly = np.random.choice(nb_anomaly, na, replace=False)       \n",
    "        s_sub_anomaly = s_anomaly[anomaly]\n",
    "    \n",
    "        scores = np.concatenate((s_normal, s_sub_anomaly), axis=0)\n",
    "        labels = np.concatenate((np.zeros(len(s_normal)),np.ones(len(s_sub_anomaly))), axis=0)\n",
    "        \n",
    "        # Get contamination rate estimation\n",
    "        cont = np.sum(labels) / len(labels)\n",
    "        \n",
    "        # Compute threshold with test set\n",
    "        thresh = get_threshold(scores, cont)\n",
    "\n",
    "        # Compute different scores\n",
    "        y_hat = (scores >= thresh).astype(int)\n",
    "        \n",
    "        # Get all scores\n",
    "        _, _, f1_score = get_scores(labels, y_hat)\n",
    "        auc_score = get_auc_score(labels, scores)\n",
    "        avpr_score = get_avpr_score(labels, scores)\n",
    "        \n",
    "        f1_scores[i, j] = f1_score\n",
    "        auc_scores[i, j] = auc_score\n",
    "        avpr_scores[i, j] = avpr_score\n",
    "        \n",
    "f1_means = np.mean(f1_scores, axis=1)\n",
    "f1_stds = np.std(f1_scores, axis=1)\n",
    "\n",
    "auc_means = np.mean(auc_scores, axis=1)\n",
    "auc_stds = np.std(auc_scores, axis=1)\n",
    "\n",
    "avpr_means = np.mean(avpr_scores, axis=1)\n",
    "avpr_stds = np.std(avpr_scores, axis=1)\n",
    "\n",
    "# anomalies = range(0, nb_anomaly)\n",
    "ratios = nb_anomalies / (nb_anomalies + len(y_test))"
   ]
  },
  {
   "cell_type": "code",
   "execution_count": null,
   "metadata": {},
   "outputs": [],
   "source": [
    "plt.figure(figsize=[4, 4])\n",
    "plt.ylim([0.0, 1.0])\n",
    "plt.xlim([0.0, np.max(ratios)])\n",
    "\n",
    "plt.plot(ratios, f1_means, label='f1_score')\n",
    "plt.fill_between(ratios, f1_means-f1_stds, f1_means+f1_stds, alpha=0.3)\n",
    "\n",
    "plt.plot(ratios, auc_means, label='auc')\n",
    "plt.fill_between(ratios, auc_means-auc_stds, auc_means+auc_stds, alpha=0.3)\n",
    "\n",
    "plt.plot(ratios, avpr_means, label='avpr')\n",
    "plt.fill_between(ratios, avpr_means-avpr_stds, avpr_means+avpr_stds, alpha=0.3)\n",
    "\n",
    "plt.legend(loc='lower right', fontsize=12)\n",
    "plt.xlabel(f\"True Contamination Rate\", fontsize=14)\n",
    "plt.title(fig_title[dataset_name], fontsize=14)\n",
    "\n",
    "\n",
    "plt.tight_layout()\n",
    "plt.savefig(f\"./results/impact_true_contamination_{dataset_name}.\"+img_format, format=img_format, dpi=dpi)\n",
    "plt.show()"
   ]
  }
 ],
 "metadata": {
  "kernelspec": {
   "display_name": "Python 3",
   "language": "python",
   "name": "python3"
  },
  "language_info": {
   "codemirror_mode": {
    "name": "ipython",
    "version": 3
   },
   "file_extension": ".py",
   "mimetype": "text/x-python",
   "name": "python",
   "nbconvert_exporter": "python",
   "pygments_lexer": "ipython3",
   "version": "3.6.9"
  }
 },
 "nbformat": 4,
 "nbformat_minor": 4
}
