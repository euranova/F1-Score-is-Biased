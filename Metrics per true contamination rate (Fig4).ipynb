{
 "cells": [
  {
   "cell_type": "markdown",
   "metadata": {},
   "source": [
    "# Metrics per True Contamination Rate (Figure 4)\n",
    "Shows the evolution of F1-score, AUC and AVPR according to the true contamination rate of the test set.\n",
    "\n",
    "You can change the dataset by changing the *dataset_name* variable in the second cell of the notebook."
   ]
  },
  {
   "cell_type": "code",
   "execution_count": 1,
   "metadata": {},
   "outputs": [],
   "source": [
    "import numpy as np\n",
    "from tqdm import tqdm\n",
    "\n",
    "from sklearn.svm import OneClassSVM\n",
    "from matplotlib import pyplot as plt\n",
    "\n",
    "from utils.datasets import load_dataset\n",
    "from utils.helpers import cont_to_anomalies_per_clean_sample, get_threshold, get_subset\n",
    "from utils.protocols import algo2\n",
    "from utils.scores import get_precision_recall_f1score, get_auc, get_avpr"
   ]
  },
  {
   "cell_type": "code",
   "execution_count": 2,
   "metadata": {},
   "outputs": [],
   "source": [
    "img_format = 'pdf'\n",
    "dpi = 512\n",
    "\n",
    "# Choose the dataset to analyse\n",
    "dataset_name = \"arrhythmia\"  # \"arrhythmia\", \"thyroid\" or \"kddcup\"\n",
    "fig_title = {\n",
    "    \"thyroid\": \"Thyroid\",\n",
    "    \"arrhythmia\": \"Arrhythmia\",\n",
    "    \"kddcup\": \"KDD Cup\"\n",
    "}\n",
    "\n",
    "n_runs = 100  # number of runs to do to have a good std estimation\n",
    "n_points = 100  # number of points calculated to draw each curve\n",
    "test_size = 0.2"
   ]
  },
  {
   "cell_type": "markdown",
   "metadata": {},
   "source": [
    "## Computations"
   ]
  },
  {
   "cell_type": "code",
   "execution_count": 3,
   "metadata": {},
   "outputs": [
    {
     "name": "stderr",
     "output_type": "stream",
     "text": [
      "100%|██████████| 100/100 [00:26<00:00,  3.77it/s]\n"
     ]
    }
   ],
   "source": [
    "x, y = load_dataset(dataset_name)\n",
    "\n",
    "f1_scores = None\n",
    "aucs = None\n",
    "avprs = None\n",
    "contamination_rates = None\n",
    "\n",
    "for j in tqdm(range(n_runs)):\n",
    "    if dataset_name == \"kddcup\":  # Trains only on a subset of the kddcup for computational reasons\n",
    "        x_run, y_run = get_subset(x[y==0], y[y==0])\n",
    "        x_run = np.r_[x_run, x[y == 1]]\n",
    "        y_run = np.r_[y_run, y[y == 1]]\n",
    "    else:\n",
    "        x_run, y_run = x.copy(), y.copy()\n",
    "    clf = OneClassSVM(gamma=\"auto\", nu=0.9)\n",
    "    y_test, scores_on_test_set, _ = algo2(x_run, y_run, test_size, clf, compute_metrics=False)\n",
    "    \n",
    "    s_normal = scores_on_test_set[y_test==0]\n",
    "    s_anomaly = scores_on_test_set[y_test==1]\n",
    "    \n",
    "    nb_normal = np.sum(1 - y_test)\n",
    "    max_contamination = np.sum(y_test) / len(y_test)\n",
    "    wanted_contamination_rates = np.linspace(0, max_contamination, n_points)\n",
    "    nb_anomalies = sorted(set((int(cont_to_anomalies_per_clean_sample(cont) * len(s_normal))\n",
    "                             for cont in wanted_contamination_rates)))\n",
    "    obtained_contamination_rates = nb_anomalies / (nb_anomalies + nb_normal)\n",
    "    if contamination_rates is None:\n",
    "        contamination_rates = obtained_contamination_rates\n",
    "        f1_scores, aucs, avprs = (np.zeros((len(contamination_rates), n_runs)) for _ in range(3))\n",
    "    else:\n",
    "        assert np.array_equal(obtained_contamination_rates, contamination_rates), (\n",
    "            str(obtained_contamination_rates - contamination_rates))\n",
    "\n",
    "    # Compute n_points points\n",
    "    for i, (na, contamination_rate) in enumerate(zip(nb_anomalies, contamination_rates)):\n",
    "        anomaly_idx = np.random.choice(len(s_anomaly), na, replace=False)\n",
    "        s_anomaly_sub = s_anomaly[anomaly_idx]\n",
    "    \n",
    "        scores = np.r_[s_normal, s_anomaly_sub]\n",
    "        labels = np.r_[np.zeros(len(s_normal)), np.ones(len(s_anomaly_sub))]\n",
    "        \n",
    "        # Compute a threshold based on the test set\n",
    "        threshold = get_threshold(scores, contamination_rate)\n",
    "\n",
    "        # Compute the binary predictions\n",
    "        y_hat = (scores >= threshold).astype(int)\n",
    "        \n",
    "        # Get all metric values\n",
    "        _, _, f1_score = get_precision_recall_f1score(labels, y_hat)\n",
    "        auc = get_auc(labels, scores)\n",
    "        avpr = get_avpr(labels, scores)\n",
    "        \n",
    "        f1_scores[i, j] = f1_score\n",
    "        aucs[i, j] = auc\n",
    "        avprs[i, j] = avpr\n",
    "        \n",
    "f1_means = np.mean(f1_scores, axis=1)\n",
    "f1_stds = np.std(f1_scores, axis=1, ddof=1)\n",
    "\n",
    "auc_means = np.mean(aucs, axis=1)\n",
    "auc_stds = np.std(aucs, axis=1, ddof=1)\n",
    "\n",
    "avpr_means = np.mean(avprs, axis=1)\n",
    "avpr_stds = np.std(avprs, axis=1, ddof=1)"
   ]
  },
  {
   "cell_type": "markdown",
   "metadata": {},
   "source": [
    "## Plot"
   ]
  },
  {
   "cell_type": "code",
   "execution_count": 4,
   "metadata": {},
   "outputs": [
    {
     "data": {
      "image/png": "[encoded data removed]",
      "text/plain": [
       "<Figure size 288x288 with 1 Axes>"
      ]
     },
     "metadata": {
      "needs_background": "light"
     },
     "output_type": "display_data"
    }
   ],
   "source": [
    "plt.figure(figsize=[4, 4])\n",
    "plt.ylim([0.0, 1.0])\n",
    "plt.xlim([0.0, np.max(contamination_rates)])\n",
    "\n",
    "plt.plot(contamination_rates, f1_means, label='F1-score')\n",
    "plt.fill_between(contamination_rates, f1_means-f1_stds, f1_means+f1_stds, alpha=0.3)\n",
    "\n",
    "plt.plot(contamination_rates, auc_means, label='AUC')\n",
    "plt.fill_between(contamination_rates, auc_means-auc_stds, auc_means+auc_stds, alpha=0.3)\n",
    "\n",
    "plt.plot(contamination_rates, avpr_means, label='AVPR')\n",
    "plt.fill_between(contamination_rates, avpr_means-avpr_stds, avpr_means+avpr_stds, alpha=0.3)\n",
    "\n",
    "plt.legend(loc='lower right', fontsize=12)\n",
    "plt.xlabel(f\"True Contamination Rate\", fontsize=14)\n",
    "plt.title(fig_title[dataset_name], fontsize=14)\n",
    "\n",
    "plt.tight_layout()\n",
    "plt.savefig(f\"./results/impact_true_contamination_{dataset_name}.{img_format}\",\n",
    "            format=img_format, dpi=dpi)\n",
    "plt.show()"
   ]
  }
 ],
 "metadata": {
  "kernelspec": {
   "display_name": "Python 3",
   "language": "python",
   "name": "python3"
  },
  "language_info": {
   "codemirror_mode": {
    "name": "ipython",
    "version": 3
   },
   "file_extension": ".py",
   "mimetype": "text/x-python",
   "name": "python",
   "nbconvert_exporter": "python",
   "pygments_lexer": "ipython3",
   "version": "3.6.9"
  }
 },
 "nbformat": 4,
 "nbformat_minor": 4
}
